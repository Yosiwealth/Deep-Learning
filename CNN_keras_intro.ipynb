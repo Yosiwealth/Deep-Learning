{
  "nbformat": 4,
  "nbformat_minor": 0,
  "metadata": {
    "colab": {
      "name": "CNN_keras_intro.ipynb",
      "version": "0.3.2",
      "provenance": [],
      "collapsed_sections": [],
      "include_colab_link": true
    },
    "kernelspec": {
      "name": "python3",
      "display_name": "Python 3"
    }
  },
  "cells": [
    {
      "cell_type": "markdown",
      "metadata": {
        "id": "view-in-github",
        "colab_type": "text"
      },
      "source": [
        "<a href=\"https://colab.research.google.com/github/Yosiwealth/Deep-Learning/blob/master/CNN_keras_intro.ipynb\" target=\"_parent\"><img src=\"https://colab.research.google.com/assets/colab-badge.svg\" alt=\"Open In Colab\"/></a>"
      ]
    },
    {
      "metadata": {
        "id": "cKk0FwMkpQY2",
        "colab_type": "code",
        "colab": {
          "base_uri": "https://localhost:8080/",
          "height": 54
        },
        "outputId": "3d6267bd-05be-4cee-a06a-894d651258c6"
      },
      "cell_type": "code",
      "source": [
        "%pylab inline\n",
        "import keras\n",
        "from keras.datasets import mnist\n",
        "from keras.models import Sequential\n",
        "from keras.layers import Dense, Dropout, Activation, Flatten\n",
        "from keras.layers import Conv2D, MaxPooling2D\n",
        "from keras.utils import np_utils\n",
        "from keras import backend as K"
      ],
      "execution_count": 1,
      "outputs": [
        {
          "output_type": "stream",
          "text": [
            "Populating the interactive namespace from numpy and matplotlib\n"
          ],
          "name": "stdout"
        },
        {
          "output_type": "stream",
          "text": [
            "Using TensorFlow backend.\n"
          ],
          "name": "stderr"
        }
      ]
    },
    {
      "metadata": {
        "id": "cjXXMkgKpTcL",
        "colab_type": "code",
        "colab": {
          "base_uri": "https://localhost:8080/",
          "height": 54
        },
        "outputId": "fdb2fea1-aa71-4651-ec45-b711d77b8e89"
      },
      "cell_type": "code",
      "source": [
        "# the data, shuffled and split between train and test sets\n",
        "(x_train, y_train), (x_test, y_test) = mnist.load_data()"
      ],
      "execution_count": 2,
      "outputs": [
        {
          "output_type": "stream",
          "text": [
            "Downloading data from https://s3.amazonaws.com/img-datasets/mnist.npz\n",
            "11493376/11490434 [==============================] - 0s 0us/step\n"
          ],
          "name": "stdout"
        }
      ]
    },
    {
      "metadata": {
        "id": "pTHWIc8SpxfT",
        "colab_type": "code",
        "colab": {}
      },
      "cell_type": "code",
      "source": [
        "from scipy import signal\n",
        "i = np.random.randint(x_train.shape[0])\n",
        "\n",
        "\n",
        "\n",
        "c = x_train[i,:,:]\n",
        "plt.imshow(c,cmap='gray'); plt.axis('off');\n",
        "plt.title('original image');\n",
        "plt.figure(figsize=(18,8))\n",
        "for i in range(10):\n",
        "    k = -1.0 + 1.0*np.random.rand(3,3)\n",
        "    c_digit = signal.convolve2d(c, k, boundary='symm', mode='same');\n",
        "    plt.subplot(2,5,i+1);\n",
        "    plt.imshow(c_digit,cmap='gray'); plt.axis('off');"
      ],
      "execution_count": 0,
      "outputs": []
    },
    {
      "metadata": {
        "id": "ownvnW6Fp6Zj",
        "colab_type": "code",
        "colab": {
          "base_uri": "https://localhost:8080/",
          "height": 215
        },
        "outputId": "1f3e0796-03bb-4589-e8b8-3e6482977e13"
      },
      "cell_type": "code",
      "source": [
        "#define edge-detection filter\n",
        "k = [\n",
        "    [0, 1, 0],\n",
        "    [1,-4, 1],\n",
        "    [0, 1, 0]\n",
        "    ]\n",
        "\n",
        "plt.figure();\n",
        "plt.subplot(1,2,1);\n",
        "plt.imshow(c,cmap='gray'); plt.axis('off');\n",
        "plt.title('original image');\n",
        "\n",
        "plt.subplot(1,2,2);\n",
        "c_digit = signal.convolve2d(c, k, boundary='symm', mode='same');\n",
        "plt.imshow(c_digit,cmap='gray'); plt.axis('off');\n",
        "plt.title('edge-detection image');   "
      ],
      "execution_count": 4,
      "outputs": [
        {
          "output_type": "display_data",
          "data": {
            "image/png": "[encoded data removed]",
            "text/plain": [
              "<matplotlib.figure.Figure at 0x7f5c865c7128>"
            ]
          },
          "metadata": {
            "tags": []
          }
        }
      ]
    },
    {
      "metadata": {
        "id": "XPSAPoFXqC94",
        "colab_type": "code",
        "colab": {
          "base_uri": "https://localhost:8080/",
          "height": 72
        },
        "outputId": "4691d08b-dfa0-43c8-dd32-6f3be5f9cd51"
      },
      "cell_type": "code",
      "source": [
        "batch_size = 128\n",
        "nb_classes = 10\n",
        "nb_epoch = 6\n",
        "\n",
        "# input image dimensions\n",
        "img_rows, img_cols = 28, 28\n",
        "# number of convolutional filters to use\n",
        "nb_filters = 32\n",
        "# size of pooling area for max pooling\n",
        "pool_size = (2, 2)\n",
        "# convolution kernel size\n",
        "kernel_size = (3, 3)\n",
        "\n",
        "if K.image_data_format() == 'channels_first':\n",
        "    x_train = x_train.reshape(x_train.shape[0], 1, img_rows, img_cols)\n",
        "    x_test = x_test.reshape(x_test.shape[0], 1, img_rows, img_cols)\n",
        "    input_shape = (1, img_rows, img_cols)\n",
        "else:\n",
        "    x_train = x_train.reshape(x_train.shape[0], img_rows, img_cols, 1)\n",
        "    x_test = x_test.reshape(x_test.shape[0], img_rows, img_cols, 1)\n",
        "    input_shape = (img_rows, img_cols, 1)\n",
        "\n",
        "#sub-sample of test data to improve training speed. Comment out\n",
        "#if you want to train on full dataset.\n",
        "x_train = x_train[:20000,:,:,:]\n",
        "y_train = y_train[:20000]\n",
        "\n",
        "#normalise the images and double check the shape and size of the image data\n",
        "x_train = x_train.astype('float32')\n",
        "x_test = x_test.astype('float32')\n",
        "x_train /= 255\n",
        "x_test /= 255\n",
        "print('x_train shape:', x_train.shape)\n",
        "print(x_train.shape[0], 'train samples')\n",
        "print(x_test.shape[0], 'test samples')\n",
        "\n",
        "# convert class vectors to binary class matrices\n",
        "y_test_inds = y_test.copy()\n",
        "y_train_inds = y_train.copy()\n",
        "y_train = keras.utils.to_categorical(y_train, nb_classes)\n",
        "y_test = keras.utils.to_categorical(y_test, nb_classes)"
      ],
      "execution_count": 5,
      "outputs": [
        {
          "output_type": "stream",
          "text": [
            "x_train shape: (20000, 28, 28, 1)\n",
            "20000 train samples\n",
            "10000 test samples\n"
          ],
          "name": "stdout"
        }
      ]
    },
    {
      "metadata": {
        "id": "Cdel3cQqqOaK",
        "colab_type": "code",
        "colab": {}
      },
      "cell_type": "code",
      "source": [
        "#Create sequential convolutional multi-layer perceptron with max pooling and dropout\n",
        "#uncomment layers below to produce a more accurate score (in the interest of time we use a shallower model)\n",
        "model = Sequential()\n",
        "model.add(Conv2D(nb_filters, kernel_size=(3, 3),\n",
        "                 activation='relu',\n",
        "                 input_shape=input_shape))  \n",
        "#model.add(Conv2D(64, (3, 3), activation='relu'))\n",
        "model.add(MaxPooling2D(pool_size=(2, 2)))\n",
        "model.add(Dropout(0.25))\n",
        "model.add(Flatten())\n",
        "#model.add(Dense(128, activation='relu'))\n",
        "model.add(Dropout(0.5))\n",
        "model.add(Dense(nb_classes, activation='softmax'))\n",
        "\n",
        "model.compile(loss=keras.losses.categorical_crossentropy,\n",
        "              optimizer=keras.optimizers.Adam(),\n",
        "              metrics=['accuracy'])"
      ],
      "execution_count": 0,
      "outputs": []
    },
    {
      "metadata": {
        "id": "_biobBXlqdSI",
        "colab_type": "code",
        "colab": {
          "base_uri": "https://localhost:8080/",
          "height": 363
        },
        "outputId": "f307b224-3052-40be-b15e-0977537ad093"
      },
      "cell_type": "code",
      "source": [
        "model.summary()"
      ],
      "execution_count": 7,
      "outputs": [
        {
          "output_type": "stream",
          "text": [
            "_________________________________________________________________\n",
            "Layer (type)                 Output Shape              Param #   \n",
            "=================================================================\n",
            "conv2d_1 (Conv2D)            (None, 26, 26, 32)        320       \n",
            "_________________________________________________________________\n",
            "max_pooling2d_1 (MaxPooling2 (None, 13, 13, 32)        0         \n",
            "_________________________________________________________________\n",
            "dropout_1 (Dropout)          (None, 13, 13, 32)        0         \n",
            "_________________________________________________________________\n",
            "flatten_1 (Flatten)          (None, 5408)              0         \n",
            "_________________________________________________________________\n",
            "dropout_2 (Dropout)          (None, 5408)              0         \n",
            "_________________________________________________________________\n",
            "dense_1 (Dense)              (None, 10)                54090     \n",
            "=================================================================\n",
            "Total params: 54,410\n",
            "Trainable params: 54,410\n",
            "Non-trainable params: 0\n",
            "_________________________________________________________________\n"
          ],
          "name": "stdout"
        }
      ]
    },
    {
      "metadata": {
        "id": "sit3w1nZqjqi",
        "colab_type": "code",
        "colab": {
          "base_uri": "https://localhost:8080/",
          "height": 290
        },
        "outputId": "14859301-b462-4b32-eca7-4f38d387304f"
      },
      "cell_type": "code",
      "source": [
        "model.fit(x_train, y_train, batch_size=batch_size, epochs=nb_epoch,\n",
        "          verbose=1, validation_data=(x_test, y_test))\n",
        "score = model.evaluate(x_test, y_test, verbose=0)\n",
        "print('Test loss:', score[0])\n",
        "print('Test accuracy:', score[1])"
      ],
      "execution_count": 8,
      "outputs": [
        {
          "output_type": "stream",
          "text": [
            "Train on 20000 samples, validate on 10000 samples\n",
            "Epoch 1/6\n",
            "20000/20000 [==============================] - 14s 715us/step - loss: 0.7217 - acc: 0.8043 - val_loss: 0.2977 - val_acc: 0.9161\n",
            "Epoch 2/6\n",
            "20000/20000 [==============================] - 14s 691us/step - loss: 0.3041 - acc: 0.9117 - val_loss: 0.2184 - val_acc: 0.9385\n",
            "Epoch 3/6\n",
            "20000/20000 [==============================] - 14s 694us/step - loss: 0.2369 - acc: 0.9307 - val_loss: 0.1760 - val_acc: 0.9497\n",
            "Epoch 4/6\n",
            "20000/20000 [==============================] - 14s 694us/step - loss: 0.1935 - acc: 0.9419 - val_loss: 0.1472 - val_acc: 0.9573\n",
            "Epoch 5/6\n",
            "20000/20000 [==============================] - 14s 694us/step - loss: 0.1712 - acc: 0.9491 - val_loss: 0.1277 - val_acc: 0.9635\n",
            "Epoch 6/6\n",
            "20000/20000 [==============================] - 14s 693us/step - loss: 0.1521 - acc: 0.9555 - val_loss: 0.1141 - val_acc: 0.9664\n",
            "Test loss: 0.11413001421615482\n",
            "Test accuracy: 0.9664\n"
          ],
          "name": "stdout"
        }
      ]
    },
    {
      "metadata": {
        "id": "4rOxEPnJqw9H",
        "colab_type": "code",
        "colab": {
          "base_uri": "https://localhost:8080/",
          "height": 280
        },
        "outputId": "59b1fbc7-37ef-4dca-fc0c-6e70e76f4394"
      },
      "cell_type": "code",
      "source": [
        "#choose a random data from test set and show probabilities for each class.\n",
        "i = np.random.randint(0,len(x_test))\n",
        "digit = x_test[i].reshape(28,28)\n",
        "\n",
        "plt.figure();\n",
        "plt.subplot(1,2,1);\n",
        "plt.title('Example of digit: {}'.format(y_test_inds[i]));\n",
        "plt.imshow(digit,cmap='gray'); plt.axis('off');\n",
        "probs = model.predict_proba(digit.reshape(1,28,28,1),batch_size=1)\n",
        "plt.subplot(1,2,2);\n",
        "plt.title('Probabilities for each digit class');\n",
        "plt.bar(np.arange(10),probs.reshape(10),align='center'); plt.xticks(np.arange(10),np.arange(10).astype(str));"
      ],
      "execution_count": 9,
      "outputs": [
        {
          "output_type": "display_data",
          "data": {
            "image/png": "[encoded data removed]",
            "text/plain": [
              "<matplotlib.figure.Figure at 0x7f5c7fc137f0>"
            ]
          },
          "metadata": {
            "tags": []
          }
        }
      ]
    },
    {
      "metadata": {
        "id": "RsWtRkFxq8aL",
        "colab_type": "code",
        "colab": {
          "base_uri": "https://localhost:8080/",
          "height": 35
        },
        "outputId": "d098e1aa-bd62-43cc-8e90-7c225015c40b"
      },
      "cell_type": "code",
      "source": [
        "predictions = model.predict_classes(x_test, batch_size=32, verbose=1)"
      ],
      "execution_count": 10,
      "outputs": [
        {
          "output_type": "stream",
          "text": [
            "10000/10000 [==============================] - 2s 220us/step\n"
          ],
          "name": "stdout"
        }
      ]
    },
    {
      "metadata": {
        "id": "oTa71abtq_PR",
        "colab_type": "code",
        "colab": {}
      },
      "cell_type": "code",
      "source": [
        "inds = np.arange(len(predictions))\n",
        "wrong_results = inds[y_test_inds!=predictions]"
      ],
      "execution_count": 0,
      "outputs": []
    },
    {
      "metadata": {
        "id": "iiJlEhpLrU0l",
        "colab_type": "code",
        "colab": {
          "base_uri": "https://localhost:8080/",
          "height": 280
        },
        "outputId": "26c0822a-a14e-470f-faa9-d0f6d5867c10"
      },
      "cell_type": "code",
      "source": [
        "#choose a random wrong result from the test set\n",
        "i = np.random.randint(0,len(wrong_results))\n",
        "i = wrong_results[i]\n",
        "digit = x_test[i].reshape(28,28)\n",
        "\n",
        "plt.figure();\n",
        "\n",
        "plt.subplot(1,2,1);\n",
        "plt.title('Digit {}'.format(y_test_inds[i]));\n",
        "plt.imshow(digit,cmap='gray'); plt.axis('off');\n",
        "probs = model.predict_proba(digit.reshape(1,28,28,1),batch_size=1)\n",
        "plt.subplot(1,2,2);\n",
        "plt.title('Digit classification probability');\n",
        "plt.bar(np.arange(10),probs.reshape(10),align='center'); plt.xticks(np.arange(10),np.arange(10).astype(str));"
      ],
      "execution_count": 12,
      "outputs": [
        {
          "output_type": "display_data",
          "data": {
            "image/png": "[encoded data removed]",
            "text/plain": [
              "<matplotlib.figure.Figure at 0x7f5c7f39e9b0>"
            ]
          },
          "metadata": {
            "tags": []
          }
        }
      ]
    },
    {
      "metadata": {
        "id": "JCXUfNozrYEX",
        "colab_type": "code",
        "colab": {
          "base_uri": "https://localhost:8080/",
          "height": 35
        },
        "outputId": "ac1ce6c0-f212-4d63-a334-1dda0b8aee0c"
      },
      "cell_type": "code",
      "source": [
        "prediction_probs = model.predict_proba(x_test, batch_size=32, verbose=1)"
      ],
      "execution_count": 13,
      "outputs": [
        {
          "output_type": "stream",
          "text": [
            "10000/10000 [==============================] - 2s 240us/step\n"
          ],
          "name": "stdout"
        }
      ]
    },
    {
      "metadata": {
        "id": "SFFskKusrcvh",
        "colab_type": "code",
        "colab": {
          "base_uri": "https://localhost:8080/",
          "height": 295
        },
        "outputId": "84c1d4f4-8436-42dc-e7ae-6f6b909e3dc3"
      },
      "cell_type": "code",
      "source": [
        "wrong_probs = np.array([prediction_probs[ind][digit] for ind,digit in zip(wrong_results,predictions[wrong_results])])\n",
        "all_probs =  np.array([prediction_probs[ind][digit] for ind,digit in zip(np.arange(len(predictions)),predictions)])\n",
        "#plot as histogram\n",
        "plt.hist(wrong_probs,alpha=0.5,normed=True,label='wrongly-labeled');\n",
        "plt.hist(all_probs,alpha=0.5,normed=True,label='all labels');\n",
        "plt.legend();\n",
        "plt.title('Comparison between wrong and correctly classified labels');\n",
        "plt.xlabel('highest probability');"
      ],
      "execution_count": 14,
      "outputs": [
        {
          "output_type": "display_data",
          "data": {
            "image/png": "[encoded data removed]",
            "text/plain": [
              "<matplotlib.figure.Figure at 0x7f5c84fc8390>"
            ]
          },
          "metadata": {
            "tags": []
          }
        }
      ]
    },
    {
      "metadata": {
        "id": "gRG9peIIrfE7",
        "colab_type": "code",
        "colab": {
          "base_uri": "https://localhost:8080/",
          "height": 35
        },
        "outputId": "e3eaae69-cfc3-485f-cea2-ce50674ee40f"
      },
      "cell_type": "code",
      "source": [
        "print (model.layers[0].get_weights()[0].shape)"
      ],
      "execution_count": 15,
      "outputs": [
        {
          "output_type": "stream",
          "text": [
            "(3, 3, 1, 32)\n"
          ],
          "name": "stdout"
        }
      ]
    },
    {
      "metadata": {
        "id": "F2UxMvkMri1G",
        "colab_type": "code",
        "colab": {
          "base_uri": "https://localhost:8080/",
          "height": 265
        },
        "outputId": "ef9b97d0-f460-4f4c-edf7-a2dd6131ac88"
      },
      "cell_type": "code",
      "source": [
        "weights = model.layers[0].get_weights()[0]\n",
        "for i in range(nb_filters):\n",
        "    plt.subplot(6,6,i+1)\n",
        "    plt.imshow(weights[:,:,0,i],cmap='gray',interpolation='none'); plt.axis('off');"
      ],
      "execution_count": 16,
      "outputs": [
        {
          "output_type": "display_data",
          "data": {
            "image/png": "[encoded data removed]",
            "text/plain": [
              "<matplotlib.figure.Figure at 0x7f5c7f391f98>"
            ]
          },
          "metadata": {
            "tags": []
          }
        }
      ]
    },
    {
      "metadata": {
        "id": "jpobQdr7rlGr",
        "colab_type": "code",
        "colab": {}
      },
      "cell_type": "code",
      "source": [
        "#Create new sequential model, same as before but just keep the convolutional layer.\n",
        "model_new = Sequential()\n",
        "model_new.add(Conv2D(nb_filters, kernel_size=(3, 3),\n",
        "                 activation='relu',\n",
        "                 input_shape=input_shape))"
      ],
      "execution_count": 0,
      "outputs": []
    },
    {
      "metadata": {
        "id": "hpJUensbrn95",
        "colab_type": "code",
        "colab": {}
      },
      "cell_type": "code",
      "source": [
        "#set weights for new model from weights trained on MNIST.\n",
        "for i in range(1):\n",
        "    model_new.layers[i].set_weights(model.layers[i].get_weights())"
      ],
      "execution_count": 0,
      "outputs": []
    },
    {
      "metadata": {
        "id": "2ofr7EpXrqJ8",
        "colab_type": "code",
        "colab": {}
      },
      "cell_type": "code",
      "source": [
        "#pick a random digit and \"predict\" on this digit (output will be first layer of CNN)\n",
        "i = np.random.randint(0,len(x_test))\n",
        "digit = x_test[i].reshape(1,28,28,1)\n",
        "pred = model_new.predict(digit)"
      ],
      "execution_count": 0,
      "outputs": []
    },
    {
      "metadata": {
        "id": "8t-d0J5zrsXI",
        "colab_type": "code",
        "colab": {
          "base_uri": "https://localhost:8080/",
          "height": 1028
        },
        "outputId": "0a0e227b-2214-4f06-f4a2-80464c5f326c"
      },
      "cell_type": "code",
      "source": [
        "#For all the filters, plot the output of the input\n",
        "plt.figure(figsize=(18,18))\n",
        "filts = pred[0]\n",
        "for i in range(nb_filters):\n",
        "    filter_digit = filts[:,:,i]\n",
        "    plt.subplot(6,6,i+1)\n",
        "    plt.imshow(filter_digit,cmap='gray'); plt.axis('off');"
      ],
      "execution_count": 20,
      "outputs": [
        {
          "output_type": "display_data",
          "data": {
            "image/png": "[encoded data removed]",
            "text/plain": [
              "<matplotlib.figure.Figure at 0x7f5c7edb42b0>"
            ]
          },
          "metadata": {
            "tags": []
          }
        }
      ]
    },
    {
      "metadata": {
        "id": "UwZ6gerqrvGD",
        "colab_type": "code",
        "colab": {}
      },
      "cell_type": "code",
      "source": [
        ""
      ],
      "execution_count": 0,
      "outputs": []
    }
  ]
}